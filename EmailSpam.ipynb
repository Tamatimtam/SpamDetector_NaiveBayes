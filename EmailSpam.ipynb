{
 "cells": [
  {
   "cell_type": "markdown",
   "metadata": {},
   "source": [
    "# Jupyter Notebook - No BS Guide\n",
    "\n",
    "**Here's the deal with Jupyter notebooks:**\n",
    "- It's like a document where you can mix code and notes\n",
    "- Each box is called a 'cell' - you can write code or text in them\n",
    "- Hit `Shift + Enter` to run a cell\n",
    "- Press `ESC` then `b` to add a cell below\n",
    "- Press `ESC` then `m` to turn a cell into text mode\n",
    "- Press `ESC` then `y` to turn a cell into code mode\n",
    "\n",
    "**The most important shit to remember:**\n",
    "1. Cells run in order from top to bottom\n",
    "2. Variables stay alive between cells\n",
    "3. You can re-run cells any time\n",
    "4. If shit breaks, try 'Kernel → Restart & Run All'"
   ]
  },
  {
   "cell_type": "code",
   "execution_count": 2,
   "metadata": {},
   "outputs": [
    {
     "name": "stdout",
     "output_type": "stream",
     "text": [
      "Here's your number: 5\n"
     ]
    }
   ],
   "source": [
    "# Try this code - it's a basic example\n",
    "x = 5\n",
    "print(f\"Here's your number: {x}\")"
   ]
  },
  {
   "cell_type": "markdown",
   "metadata": {},
   "source": [
    "**Quick Tips:**\n",
    "- Hit `Tab` while typing to auto-complete stuff\n",
    "- Put a ? after something to get help (like `print?`)\n",
    "- Use `%%time` at the start of a cell to see how long it takes to run\n",
    "- Save your work often (File → Save or Ctrl+S)\n",
    "\n",
    "**That's literally 80% of what you need to know. The rest you'll figure out as you go.**"
   ]
  },
  {
   "cell_type": "code",
   "execution_count": 3,
   "metadata": {},
   "outputs": [
    {
     "name": "stdout",
     "output_type": "stream",
     "text": [
      "Look ma, it remembers x: 10\n"
     ]
    }
   ],
   "source": [
    "# Here's how cells share variables\n",
    "y = x * 2  # This uses 'x' from the cell above\n",
    "print(f\"Look ma, it remembers x: {y}\")"
   ]
  },
  {
   "cell_type": "code",
   "execution_count": null,
   "metadata": {},
   "outputs": [],
   "source": [
    "# First, import pandas - it's the Swiss Army knife for data\n",
    "import pandas as pd\n",
    "\n",
    "# Replace 'your_file.csv' with your actual CSV file name\n",
    "df = pd.read_csv('your_file.csv')\n",
    "\n",
    "# Show the first 10 rows\n",
    "print(\"Here's what your data looks like:\")\n",
    "print(df.head(10))\n",
    "\n",
    "# Bonus: want to know how many rows and columns you have?\n",
    "print(f\"\\nTotal size: {df.shape[0]} rows, {df.shape[1]} columns\")"
   ]
  }
 ],
 "metadata": {
  "kernelspec": {
   "display_name": ".Linux",
   "language": "python",
   "name": "python3"
  },
  "language_info": {
   "codemirror_mode": {
    "name": "ipython",
    "version": 3
   },
   "file_extension": ".py",
   "mimetype": "text/x-python",
   "name": "python",
   "nbconvert_exporter": "python",
   "pygments_lexer": "ipython3",
   "version": "3.12.3"
  }
 },
 "nbformat": 4,
 "nbformat_minor": 2
}
